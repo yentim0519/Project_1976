{
 "cells": [
  {
   "cell_type": "markdown",
   "metadata": {},
   "source": [
    "步驟：\n",
    "1. 將a的品牌名存成list\n",
    "2. 利用品牌名點進去個品牌的頁面\n",
    "    * 將其每一款商品的資訊爬下來並整理成df (品牌、品名、香調、前中後香）"
   ]
  },
  {
   "cell_type": "code",
   "execution_count": 60,
   "metadata": {},
   "outputs": [],
   "source": [
    "# 匯入libraries\n",
    "from selenium import webdriver\n",
    "from bs4 import BeautifulSoup\n",
    "import requests\n",
    "from selenium.webdriver.support.ui import Select \n",
    "from selenium.webdriver.common.action_chains import ActionChains\n",
    "from selenium.webdriver.common.keys import Keys\n",
    "import time\n",
    "import selenium.webdriver.support.ui as ui\n",
    "from selenium.webdriver.common.by import By\n",
    "from selenium.webdriver.support.ui import WebDriverWait\n",
    "from selenium.webdriver.support import expected_conditions as EC\n",
    "import pymysql\n",
    "from selenium.webdriver.chrome.options import Options\n",
    "from selenium.common.exceptions import NoSuchElementException"
   ]
  },
  {
   "cell_type": "code",
   "execution_count": 61,
   "metadata": {},
   "outputs": [],
   "source": [
    "# 連接資料庫\n",
    "# conn = pymysql.connect(host = '127.0.0.1', port = 3306, user = 'root',\n",
    "#                        passwd = 'helloyen',db =  'test3')\n",
    "\n",
    "# cursor = conn.cursor()\n",
    "conn = pymysql.connect(host = 'sogoyen.crc98fdcbodi.us-east-2.rds.amazonaws.com', port = 3306, user = 'admin',\n",
    "                       passwd = 'helloyen', db =  'mydb')\n",
    "\n",
    "cursor = conn.cursor()"
   ]
  },
  {
   "cell_type": "code",
   "execution_count": 62,
   "metadata": {
    "scrolled": false
   },
   "outputs": [
    {
     "name": "stderr",
     "output_type": "stream",
     "text": [
      "/Users/owner/opt/anaconda3/lib/python3.7/site-packages/ipykernel_launcher.py:19: DeprecationWarning: use options instead of chrome_options\n",
      "/Users/owner/opt/anaconda3/lib/python3.7/site-packages/pymysql/cursors.py:170: Warning: (1265, \"Data truncated for column 'base_notes' at row 1\")\n",
      "  result = self._query(query)\n"
     ]
    },
    {
     "name": "stdout",
     "output_type": "stream",
     "text": [
      "CPU times: user 1min 19s, sys: 3.27 s, total: 1min 22s\n",
      "Wall time: 57min 17s\n"
     ]
    }
   ],
   "source": [
    "%%time\n",
    "\n",
    "# 將brand names存成list\n",
    "resp = requests.get('https://www.1976.com.tw/brand')\n",
    "soup = BeautifulSoup(resp.text, 'html.parser')\n",
    "brand_names = soup.find(\"div\", {\"class\": \"brandall\"}).find_all('a')\n",
    "brand_names_list = []\n",
    "\n",
    "for brand_name in brand_names:      # 要用for迴圈才能將resultset object的資料取出\n",
    "    brand_name= brand_name.string.strip() # 將string的空格和'\\n'拿掉\n",
    "    brand_names_list.append(brand_name)\n",
    "\n",
    "# 利用迴圈將5筆品牌A開頭的資料抓下來\n",
    "target_url = 'https://www.1976.com.tw/brand'\n",
    "options =  Options()\n",
    "# options.add_argument('--no-sandbox')\n",
    "# options.add_argument('--disable-dev-shm-usage')\n",
    "options.add_argument('window-size=1920x3000') # 指定浏览器分辨率\n",
    "options.add_argument('--hide-scrollbars') # 隐藏滚动条, 应对一些特殊页面\n",
    "options.add_argument('blink-settings=imagesEnabled=false')# 不加载图片, 提升速度\n",
    "driver = webdriver.Chrome('/Users/owner/Desktop/Github/Self_practice/Selenium 動態爬蟲/chromedriver', chrome_options=options)\n",
    "driver.get(target_url)\n",
    "\n",
    "\n",
    "# 進入特定品牌\n",
    "for i in range(110, len(brand_names_list)):   \n",
    "    try:\n",
    "        driver.find_element_by_link_text(brand_names_list[i]).send_keys(Keys.ENTER) # 上面的目錄擋住了click的地方，用ENTER即可解決\n",
    "    except NoSuchElementException:\n",
    "        continue\n",
    "    \n",
    "\n",
    "    # 將此brand的product_name存入list\n",
    "    resp1 = requests.get(driver.current_url)\n",
    "    soup1 = BeautifulSoup(resp1.text, 'html.parser')\n",
    "    product_names = soup1.find_all(\"div\", {\"class\": \"item-name\"})\n",
    "    product_names_list = []\n",
    "\n",
    "    # for sql\n",
    "    product_brand = brand_names_list[i]\n",
    "\n",
    "    for product_name in product_names:      # 要用for迴圈才能將resultset object的資料取出\n",
    "        product_names_list.append(product_name.find('a').string.strip())\n",
    "\n",
    "    # 進入特定商品\n",
    "    for j in range(len(product_names_list)): \n",
    "\n",
    "        product_name = product_names_list[j]\n",
    "\n",
    "        driver.implicitly_wait(10)\n",
    "        try:\n",
    "            element = driver.find_element_by_link_text(product_names_list[j])\n",
    "        except NoSuchElementException:\n",
    "            continue\n",
    "        else:\n",
    "            driver.execute_script(\"arguments[0].click();\", element) # 用這個作法即可解決偶爾有element not interactable的問題\n",
    "#         print(product_names_list[j])\n",
    "\n",
    "        # 將前中後香的資訊拿出來\n",
    "        product_url = driver.current_url\n",
    "        resp2 = requests.get(product_url)\n",
    "        soup2 = BeautifulSoup(resp2.text, 'html.parser')\n",
    "        perfume_notes = soup2.find(\"div\", {\"class\": \"product-perfume\"})\n",
    "#         print(perfume_notes)\n",
    "\n",
    "        fragrance_notes = perfume_notes.contents[0].strip().strip('香 調： ')\n",
    "        top_notes = perfume_notes.contents[2].strip().strip('前 味： ')\n",
    "        middle_notes = perfume_notes.contents[4].strip().strip('中 味： ')\n",
    "        base_notes = perfume_notes.contents[6].strip().strip('後 味： ')\n",
    "\n",
    "        #將爬下的資料輸入datbase\n",
    "        cursor.execute(\"INSERT INTO perfume_data1(product_brand, product_name, fragrance_notes, top_notes, middle_notes, base_notes, product_url)VALUES(%s, %s, %s, %s, %s, %s, %s);\", \n",
    "                          (product_brand, product_name, fragrance_notes, top_notes, middle_notes, base_notes, product_url))\n",
    "        \n",
    "        conn.commit()\n",
    "        driver.back()\n",
    "    \n",
    "    driver.back()\n",
    "    del resp1, soup1, product_names, product_names_list # 將前一個brand的資料都清除\n",
    "\n",
    "\n",
    "driver.quit()"
   ]
  },
  {
   "cell_type": "code",
   "execution_count": 63,
   "metadata": {},
   "outputs": [],
   "source": [
    "# commit後將資料庫關閉\n",
    "cursor.close()\n",
    "conn.close()"
   ]
  },
  {
   "cell_type": "markdown",
   "metadata": {},
   "source": [
    "not interactable有兩種case:\n",
    "1. 螢幕上看不到\n",
    "2. 此element還沒load好\n",
    "\n",
    "現在遇到的問題：\n",
    "1. 用implicit wait第幾次會出現element not interactable的狀況都不同"
   ]
  }
 ],
 "metadata": {
  "kernelspec": {
   "display_name": "Python 3",
   "language": "python",
   "name": "python3"
  },
  "language_info": {
   "codemirror_mode": {
    "name": "ipython",
    "version": 3
   },
   "file_extension": ".py",
   "mimetype": "text/x-python",
   "name": "python",
   "nbconvert_exporter": "python",
   "pygments_lexer": "ipython3",
   "version": "3.7.4"
  }
 },
 "nbformat": 4,
 "nbformat_minor": 2
}
